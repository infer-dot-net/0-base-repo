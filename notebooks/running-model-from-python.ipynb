{
 "cells": [
  {
   "cell_type": "markdown",
   "metadata": {},
   "source": [
    "# Running inferDotNet model from Python"
   ]
  },
  {
   "cell_type": "markdown",
   "metadata": {},
   "source": [
    "## Introduction"
   ]
  },
  {
   "cell_type": "markdown",
   "metadata": {},
   "source": [
    "## Setup"
   ]
  },
  {
   "cell_type": "markdown",
   "metadata": {},
   "source": [
    "### Imports"
   ]
  },
  {
   "cell_type": "code",
   "execution_count": 1,
   "metadata": {
    "ExecuteTime": {
     "end_time": "2021-02-03T07:01:33.041603Z",
     "start_time": "2021-02-03T07:01:31.630668Z"
    }
   },
   "outputs": [],
   "source": [
    "import pandas as pd\n",
    "import matplotlib.pyplot as plt\n",
    "import os\n",
    "import seaborn as sns\n",
    "from pathlib import Path"
   ]
  },
  {
   "cell_type": "markdown",
   "metadata": {},
   "source": [
    "### Config"
   ]
  },
  {
   "cell_type": "code",
   "execution_count": 2,
   "metadata": {
    "ExecuteTime": {
     "end_time": "2021-02-03T07:01:33.046556Z",
     "start_time": "2021-02-03T07:01:33.043812Z"
    }
   },
   "outputs": [],
   "source": [
    "model_dir = Path('../models/model/')\n",
    "data_dir = Path('../data/')"
   ]
  },
  {
   "cell_type": "markdown",
   "metadata": {},
   "source": [
    "## Running Model"
   ]
  },
  {
   "cell_type": "code",
   "execution_count": 9,
   "metadata": {
    "ExecuteTime": {
     "end_time": "2021-02-03T07:41:52.616404Z",
     "start_time": "2021-02-03T07:41:52.600583Z"
    }
   },
   "outputs": [
    {
     "data": {
      "text/plain": [
       "'dotnet run --project ../models/model ../data second'"
      ]
     },
     "execution_count": 9,
     "metadata": {},
     "output_type": "execute_result"
    }
   ],
   "source": [
    "cmd = f'dotnet run --project {model_dir} {data_dir} second'\n",
    "cmd"
   ]
  },
  {
   "cell_type": "code",
   "execution_count": 10,
   "metadata": {
    "ExecuteTime": {
     "end_time": "2021-02-03T07:42:00.891610Z",
     "start_time": "2021-02-03T07:41:52.701522Z"
    }
   },
   "outputs": [
    {
     "name": "stdout",
     "output_type": "stream",
     "text": [
      "\u001b[?1h\u001b=\u001b[?1h\u001b=\u001b[?1h\u001b=\u001b[?1h\u001b=\u001b[?1h\u001b=\u001b[?1h\u001b=Compiling model...done.\n",
      "Iterating: \n",
      ".........|.........|.........|.........|.........| 50\n",
      ".........|.........|.........|.........|.........| 100\n",
      ".........|.........|.........|.........|.........| 150\n",
      ".........|.........|.........|.........|.........| 200\n",
      ".........|.........|.........|.........|.........| 250\n",
      ".........|.........|.........|.........|.........| 300\n",
      ".........|.........|.........|.........|.........| 350\n",
      ".........|.........|.........|.........|.........| 400\n",
      ".........|.........|.........|.........|.........| 450\n",
      ".........|.........|.........|.........|.........| 500\n",
      ".........|.........|.........|.........|.........| 550\n",
      ".........|.........|.........|.........|.........| 600\n",
      ".........|.........|.........|.........|.........| 650\n",
      ".........|.........|.........|.........|.........| 700\n",
      ".........|.........|.........|.........|.........| 750\n",
      ".........|.........|.........|.........|.........| 800\n",
      ".........|.........|.........|.........|.........| 850\n",
      ".........|.........|.........|.........|.........| 900\n",
      ".........|.........|.........|.........|.........| 950\n",
      ".........|.........|.........|.........|.........| 1000\n",
      ".........|.........|.........|.........|.........| 1050\n",
      ".........|.........|.........|.........|.........| 1100\n",
      ".........|.........|.........|.........|.........| 1150\n",
      ".........|.........|.........|.........|.........| 1200\n",
      ".........|.........|.........|.........|.........| 1250\n",
      ".........|.........|.........|.........|.........| 1300\n",
      ".........|.........|.........|.........|.........| 1350\n",
      ".........|.........|.........|.........|.........| 1400\n",
      ".........|.........|.........|.........|.........| 1450\n",
      ".........|.........|.........|.........|.........| 1500\n",
      ".........|.........|.........|.........|.........| 1550\n",
      ".........|.........|.........|.........|.........| 1600\n",
      ".........|.........|.........|.........|.........| 1650\n",
      ".........|.........|.........|.........|.........| 1700\n",
      ".........|.........|.........|.........|.........| 1750\n",
      ".........|.........|.........|.........|.........| 1800\n",
      ".........|.........|.........|.........|.........| 1850\n",
      ".........|.........|.........|.........|.........| 1900\n",
      ".........|.........|.........|.........|.........| 1950\n",
      ".........|.........|.........|.........|.........| 2000\n",
      ".........|.........|.........|.........|.........| 2050\n",
      ".........|.........|.........|.........|.........| 2100\n",
      "Compiling model...done.\n",
      "Iterating: \n",
      ".........|.........|.........|.........|.........| 50\n",
      ".........|.........|.........|.........|.........| 100\n",
      ".........|.........|.........|.........|.........| 150\n",
      ".........|.........|.........|.........|.........| 200\n",
      ".........|.........|.........|.........|.........| 250\n",
      ".........|.........|.........|.........|.........| 300\n",
      ".........|.........|.........|.........|.........| 350\n",
      ".........|.........|.........|.........|.........| 400\n",
      ".........|.........|.........|.........|.........| 450\n",
      ".........|.........|.........|.........|.........| 500\n",
      ".........|.........|.........|.........|.........| 550\n",
      ".........|.........|.........|.........|.........| 600\n",
      ".........|.........|.........|.........|.........| 650\n",
      ".........|.........|.........|.........|.........| 700\n",
      ".........|.........|.........|.........|.........| 750\n",
      ".........|.........|.........|.........|.........| 800\n",
      ".........|.........|.........|.........|.........| 850\n",
      ".........|.........|.........|.........|.........| 900\n",
      ".........|.........|.........|.........|.........| 950\n",
      ".........|.........|.........|.........|.........| 1000\n",
      ".........|.........|.........|.........|.........| 1050\n",
      ".........|.........|.........|.........|.........| 1100\n",
      ".........|.........|.........|.........|.........| 1150\n",
      ".........|.........|.........|.........|.........| 1200\n",
      ".........|.........|.........|.........|.........| 1250\n",
      ".........|.........|.........|.........|.........| 1300\n",
      ".........|.........|.........|.........|.........| 1350\n",
      ".........|.........|.........|.........|.........| 1400\n",
      ".........|.........|.........|.........|.........| 1450\n",
      ".........|.........|.........|.........|.........| 1500\n",
      ".........|.........|.........|.........|.........| 1550\n",
      ".........|.........|.........|.........|.........| 1600\n",
      ".........|.........|.........|.........|.........| 1650\n",
      ".........|.........|.........|.........|.........| 1700\n",
      ".........|.........|.........|.........|.........| 1750\n",
      ".........|.........|.........|.........|.........| 1800\n",
      ".........|.........|.........|.........|.........| 1850\n",
      ".........|.........|.........|.........|.........| 1900\n",
      ".........|.........|.........|.........|.........| 1950\n",
      ".........|.........|.........|.........|.........| 2000\n",
      ".........|.........|.........|.........|.........| 2050\n",
      ".........|.........|.........|.........|.........| 2100\n",
      "\n",
      "priorFirstCoin : Bernoulli(0.5)\n",
      "priorSecondCoin: Bernoulli(0.5)\n",
      "priorBothHeads : Bernoulli(0.2595)\n",
      "\n",
      "postFirstCoin  : Bernoulli(0.5)\n",
      "postSecondCoin : Bernoulli(1)\n",
      "postBothHeads  : Bernoulli(0.4795)\n",
      "\u001b[?1h\u001b="
     ]
    }
   ],
   "source": [
    "!{cmd}"
   ]
  },
  {
   "cell_type": "code",
   "execution_count": 11,
   "metadata": {
    "ExecuteTime": {
     "end_time": "2021-02-03T07:42:04.338500Z",
     "start_time": "2021-02-03T07:42:04.305905Z"
    }
   },
   "outputs": [
    {
     "data": {
      "text/html": [
       "<div>\n",
       "<style scoped>\n",
       "    .dataframe tbody tr th:only-of-type {\n",
       "        vertical-align: middle;\n",
       "    }\n",
       "\n",
       "    .dataframe tbody tr th {\n",
       "        vertical-align: top;\n",
       "    }\n",
       "\n",
       "    .dataframe thead th {\n",
       "        text-align: right;\n",
       "    }\n",
       "</style>\n",
       "<table border=\"1\" class=\"dataframe\">\n",
       "  <thead>\n",
       "    <tr style=\"text-align: right;\">\n",
       "      <th></th>\n",
       "      <th>probability</th>\n",
       "      <th>variable</th>\n",
       "      <th>mean</th>\n",
       "    </tr>\n",
       "  </thead>\n",
       "  <tbody>\n",
       "    <tr>\n",
       "      <th>0</th>\n",
       "      <td>prior</td>\n",
       "      <td>firstCoin</td>\n",
       "      <td>0.5000</td>\n",
       "    </tr>\n",
       "    <tr>\n",
       "      <th>1</th>\n",
       "      <td>prior</td>\n",
       "      <td>secondCoin</td>\n",
       "      <td>0.5000</td>\n",
       "    </tr>\n",
       "    <tr>\n",
       "      <th>2</th>\n",
       "      <td>prior</td>\n",
       "      <td>bothHeads</td>\n",
       "      <td>0.2585</td>\n",
       "    </tr>\n",
       "    <tr>\n",
       "      <th>3</th>\n",
       "      <td>posterior</td>\n",
       "      <td>firstCoin</td>\n",
       "      <td>1.0000</td>\n",
       "    </tr>\n",
       "    <tr>\n",
       "      <th>4</th>\n",
       "      <td>posterior</td>\n",
       "      <td>secondCoin</td>\n",
       "      <td>0.5000</td>\n",
       "    </tr>\n",
       "    <tr>\n",
       "      <th>5</th>\n",
       "      <td>posterior</td>\n",
       "      <td>bothHeads</td>\n",
       "      <td>0.5170</td>\n",
       "    </tr>\n",
       "  </tbody>\n",
       "</table>\n",
       "</div>"
      ],
      "text/plain": [
       "  probability    variable    mean\n",
       "0       prior   firstCoin  0.5000\n",
       "1       prior  secondCoin  0.5000\n",
       "2       prior   bothHeads  0.2585\n",
       "3   posterior   firstCoin  1.0000\n",
       "4   posterior  secondCoin  0.5000\n",
       "5   posterior   bothHeads  0.5170"
      ]
     },
     "execution_count": 11,
     "metadata": {},
     "output_type": "execute_result"
    }
   ],
   "source": [
    "df_result = pd.read_csv(data_dir/'results.csv', sep=';')\n",
    "df_result"
   ]
  },
  {
   "cell_type": "markdown",
   "metadata": {},
   "source": [
    "## Results"
   ]
  },
  {
   "cell_type": "code",
   "execution_count": 12,
   "metadata": {
    "ExecuteTime": {
     "end_time": "2021-02-03T07:42:28.787630Z",
     "start_time": "2021-02-03T07:42:05.920180Z"
    }
   },
   "outputs": [
    {
     "name": "stdout",
     "output_type": "stream",
     "text": [
      "dotnet run --project ../models/model ../data first\n",
      "dotnet run --project ../models/model ../data second\n",
      "dotnet run --project ../models/model ../data both\n"
     ]
    }
   ],
   "source": [
    "df_results = pd.DataFrame()\n",
    "for observe in ['first', 'second', 'both']:\n",
    "    cmd = f'dotnet run --project {model_dir} {data_dir} {observe}'\n",
    "    print(cmd)\n",
    "    os.system(cmd)\n",
    "\n",
    "    df_result = pd.read_csv(data_dir/'results.csv', sep=';')\n",
    "    df_result['observed'] = observe\n",
    "\n",
    "    df_results = pd.concat([df_results, df_result])"
   ]
  },
  {
   "cell_type": "code",
   "execution_count": 13,
   "metadata": {
    "ExecuteTime": {
     "end_time": "2021-02-03T07:42:28.797416Z",
     "start_time": "2021-02-03T07:42:28.789933Z"
    }
   },
   "outputs": [
    {
     "ename": "SyntaxError",
     "evalue": "invalid syntax (<ipython-input-13-f7b6165ec282>, line 1)",
     "output_type": "error",
     "traceback": [
      "\u001b[0;36m  File \u001b[0;32m\"<ipython-input-13-f7b6165ec282>\"\u001b[0;36m, line \u001b[0;32m1\u001b[0m\n\u001b[0;31m    for\u001b[0m\n\u001b[0m        ^\u001b[0m\n\u001b[0;31mSyntaxError\u001b[0m\u001b[0;31m:\u001b[0m invalid syntax\n"
     ]
    }
   ],
   "source": [
    "for \n",
    "sns.barplot(data=df_results,\n",
    "           x='variable', \n",
    "           y='mean',\n",
    "           hue='observed')"
   ]
  },
  {
   "cell_type": "code",
   "execution_count": 7,
   "metadata": {
    "ExecuteTime": {
     "end_time": "2021-02-03T07:01:54.723584Z",
     "start_time": "2021-02-03T07:01:54.708869Z"
    }
   },
   "outputs": [
    {
     "data": {
      "text/html": [
       "<div>\n",
       "<style scoped>\n",
       "    .dataframe tbody tr th:only-of-type {\n",
       "        vertical-align: middle;\n",
       "    }\n",
       "\n",
       "    .dataframe tbody tr th {\n",
       "        vertical-align: top;\n",
       "    }\n",
       "\n",
       "    .dataframe thead th {\n",
       "        text-align: right;\n",
       "    }\n",
       "</style>\n",
       "<table border=\"1\" class=\"dataframe\">\n",
       "  <thead>\n",
       "    <tr style=\"text-align: right;\">\n",
       "      <th></th>\n",
       "      <th>probability</th>\n",
       "      <th>variable</th>\n",
       "      <th>mean</th>\n",
       "      <th>observed</th>\n",
       "    </tr>\n",
       "  </thead>\n",
       "  <tbody>\n",
       "    <tr>\n",
       "      <th>0</th>\n",
       "      <td>prior</td>\n",
       "      <td>firstCoin</td>\n",
       "      <td>0.50</td>\n",
       "      <td>first</td>\n",
       "    </tr>\n",
       "    <tr>\n",
       "      <th>1</th>\n",
       "      <td>prior</td>\n",
       "      <td>secondCoin</td>\n",
       "      <td>0.50</td>\n",
       "      <td>first</td>\n",
       "    </tr>\n",
       "    <tr>\n",
       "      <th>2</th>\n",
       "      <td>prior</td>\n",
       "      <td>bothHeads</td>\n",
       "      <td>0.25</td>\n",
       "      <td>first</td>\n",
       "    </tr>\n",
       "    <tr>\n",
       "      <th>3</th>\n",
       "      <td>posterior</td>\n",
       "      <td>firstCoin</td>\n",
       "      <td>1.00</td>\n",
       "      <td>first</td>\n",
       "    </tr>\n",
       "    <tr>\n",
       "      <th>4</th>\n",
       "      <td>posterior</td>\n",
       "      <td>secondCoin</td>\n",
       "      <td>0.50</td>\n",
       "      <td>first</td>\n",
       "    </tr>\n",
       "    <tr>\n",
       "      <th>5</th>\n",
       "      <td>posterior</td>\n",
       "      <td>bothHeads</td>\n",
       "      <td>0.50</td>\n",
       "      <td>first</td>\n",
       "    </tr>\n",
       "    <tr>\n",
       "      <th>0</th>\n",
       "      <td>prior</td>\n",
       "      <td>firstCoin</td>\n",
       "      <td>0.50</td>\n",
       "      <td>second</td>\n",
       "    </tr>\n",
       "    <tr>\n",
       "      <th>1</th>\n",
       "      <td>prior</td>\n",
       "      <td>secondCoin</td>\n",
       "      <td>0.50</td>\n",
       "      <td>second</td>\n",
       "    </tr>\n",
       "    <tr>\n",
       "      <th>2</th>\n",
       "      <td>prior</td>\n",
       "      <td>bothHeads</td>\n",
       "      <td>0.25</td>\n",
       "      <td>second</td>\n",
       "    </tr>\n",
       "    <tr>\n",
       "      <th>3</th>\n",
       "      <td>posterior</td>\n",
       "      <td>firstCoin</td>\n",
       "      <td>1.00</td>\n",
       "      <td>second</td>\n",
       "    </tr>\n",
       "    <tr>\n",
       "      <th>4</th>\n",
       "      <td>posterior</td>\n",
       "      <td>secondCoin</td>\n",
       "      <td>0.50</td>\n",
       "      <td>second</td>\n",
       "    </tr>\n",
       "    <tr>\n",
       "      <th>5</th>\n",
       "      <td>posterior</td>\n",
       "      <td>bothHeads</td>\n",
       "      <td>0.50</td>\n",
       "      <td>second</td>\n",
       "    </tr>\n",
       "    <tr>\n",
       "      <th>0</th>\n",
       "      <td>prior</td>\n",
       "      <td>firstCoin</td>\n",
       "      <td>0.50</td>\n",
       "      <td>both</td>\n",
       "    </tr>\n",
       "    <tr>\n",
       "      <th>1</th>\n",
       "      <td>prior</td>\n",
       "      <td>secondCoin</td>\n",
       "      <td>0.50</td>\n",
       "      <td>both</td>\n",
       "    </tr>\n",
       "    <tr>\n",
       "      <th>2</th>\n",
       "      <td>prior</td>\n",
       "      <td>bothHeads</td>\n",
       "      <td>0.25</td>\n",
       "      <td>both</td>\n",
       "    </tr>\n",
       "    <tr>\n",
       "      <th>3</th>\n",
       "      <td>posterior</td>\n",
       "      <td>firstCoin</td>\n",
       "      <td>1.00</td>\n",
       "      <td>both</td>\n",
       "    </tr>\n",
       "    <tr>\n",
       "      <th>4</th>\n",
       "      <td>posterior</td>\n",
       "      <td>secondCoin</td>\n",
       "      <td>0.50</td>\n",
       "      <td>both</td>\n",
       "    </tr>\n",
       "    <tr>\n",
       "      <th>5</th>\n",
       "      <td>posterior</td>\n",
       "      <td>bothHeads</td>\n",
       "      <td>0.50</td>\n",
       "      <td>both</td>\n",
       "    </tr>\n",
       "  </tbody>\n",
       "</table>\n",
       "</div>"
      ],
      "text/plain": [
       "  probability    variable  mean observed\n",
       "0       prior   firstCoin  0.50    first\n",
       "1       prior  secondCoin  0.50    first\n",
       "2       prior   bothHeads  0.25    first\n",
       "3   posterior   firstCoin  1.00    first\n",
       "4   posterior  secondCoin  0.50    first\n",
       "5   posterior   bothHeads  0.50    first\n",
       "0       prior   firstCoin  0.50   second\n",
       "1       prior  secondCoin  0.50   second\n",
       "2       prior   bothHeads  0.25   second\n",
       "3   posterior   firstCoin  1.00   second\n",
       "4   posterior  secondCoin  0.50   second\n",
       "5   posterior   bothHeads  0.50   second\n",
       "0       prior   firstCoin  0.50     both\n",
       "1       prior  secondCoin  0.50     both\n",
       "2       prior   bothHeads  0.25     both\n",
       "3   posterior   firstCoin  1.00     both\n",
       "4   posterior  secondCoin  0.50     both\n",
       "5   posterior   bothHeads  0.50     both"
      ]
     },
     "execution_count": 7,
     "metadata": {},
     "output_type": "execute_result"
    }
   ],
   "source": [
    "df_results"
   ]
  },
  {
   "cell_type": "code",
   "execution_count": null,
   "metadata": {},
   "outputs": [],
   "source": []
  }
 ],
 "metadata": {
  "kernelspec": {
   "display_name": "Python 3",
   "language": "python",
   "name": "python3"
  },
  "language_info": {
   "codemirror_mode": {
    "name": "ipython",
    "version": 3
   },
   "file_extension": ".py",
   "mimetype": "text/x-python",
   "name": "python",
   "nbconvert_exporter": "python",
   "pygments_lexer": "ipython3",
   "version": "3.9.1"
  },
  "toc": {
   "base_numbering": 1,
   "nav_menu": {},
   "number_sections": true,
   "sideBar": true,
   "skip_h1_title": true,
   "title_cell": "Table of Contents",
   "title_sidebar": "Contents",
   "toc_cell": false,
   "toc_position": {},
   "toc_section_display": true,
   "toc_window_display": true
  }
 },
 "nbformat": 4,
 "nbformat_minor": 4
}
