{
 "cells": [
  {
   "cell_type": "markdown",
   "metadata": {},
   "source": [
    "# Running inferDotNet model from Python"
   ]
  },
  {
   "cell_type": "markdown",
   "metadata": {},
   "source": [
    "## Introduction"
   ]
  },
  {
   "cell_type": "markdown",
   "metadata": {},
   "source": [
    "## Setup"
   ]
  },
  {
   "cell_type": "markdown",
   "metadata": {},
   "source": [
    "### Imports"
   ]
  },
  {
   "cell_type": "code",
   "execution_count": 18,
   "metadata": {
    "ExecuteTime": {
     "end_time": "2021-02-03T14:34:31.396913Z",
     "start_time": "2021-02-03T14:34:31.393370Z"
    }
   },
   "outputs": [],
   "source": [
    "import pandas as pd\n",
    "import matplotlib.pyplot as plt\n",
    "import os\n",
    "import seaborn as sns\n",
    "from time import time\n",
    "from pathlib import Path"
   ]
  },
  {
   "cell_type": "markdown",
   "metadata": {},
   "source": [
    "### Config"
   ]
  },
  {
   "cell_type": "code",
   "execution_count": 2,
   "metadata": {
    "ExecuteTime": {
     "end_time": "2021-02-03T14:28:44.767280Z",
     "start_time": "2021-02-03T14:28:44.763989Z"
    }
   },
   "outputs": [],
   "source": [
    "model_dir = Path('../models/model/')\n",
    "data_dir = Path('../data/')"
   ]
  },
  {
   "cell_type": "markdown",
   "metadata": {},
   "source": [
    "## Running Model"
   ]
  },
  {
   "cell_type": "code",
   "execution_count": 9,
   "metadata": {
    "ExecuteTime": {
     "end_time": "2021-02-03T14:30:33.672794Z",
     "start_time": "2021-02-03T14:30:33.667943Z"
    }
   },
   "outputs": [
    {
     "data": {
      "text/plain": [
       "'dotnet run --project ../models/model ../data second EP'"
      ]
     },
     "execution_count": 9,
     "metadata": {},
     "output_type": "execute_result"
    }
   ],
   "source": [
    "cmd = f'dotnet run --project {model_dir} {data_dir} second EP'\n",
    "cmd"
   ]
  },
  {
   "cell_type": "code",
   "execution_count": 10,
   "metadata": {
    "ExecuteTime": {
     "end_time": "2021-02-03T14:30:40.397895Z",
     "start_time": "2021-02-03T14:30:33.899209Z"
    }
   },
   "outputs": [
    {
     "name": "stdout",
     "output_type": "stream",
     "text": [
      "\u001b[?1h\u001b=\u001b[?1h\u001b=\u001b[?1h\u001b=\u001b[?1h\u001b=\u001b[?1h\u001b=\u001b[?1h\u001b=Compiling model...done.\n",
      "Compiling model...done.\n",
      "\n",
      "priorFirstCoin : Bernoulli(0.5)\n",
      "priorSecondCoin: Bernoulli(0.5)\n",
      "priorBothHeads : Bernoulli(0.25)\n",
      "\n",
      "postFirstCoin  : Bernoulli(0.5)\n",
      "postSecondCoin : Bernoulli(1)\n",
      "postBothHeads  : Bernoulli(0.5)\n",
      "\u001b[?1h\u001b="
     ]
    }
   ],
   "source": [
    "!{cmd}"
   ]
  },
  {
   "cell_type": "code",
   "execution_count": 11,
   "metadata": {
    "ExecuteTime": {
     "end_time": "2021-02-03T14:30:40.437225Z",
     "start_time": "2021-02-03T14:30:40.401044Z"
    }
   },
   "outputs": [
    {
     "data": {
      "text/html": [
       "<div>\n",
       "<style scoped>\n",
       "    .dataframe tbody tr th:only-of-type {\n",
       "        vertical-align: middle;\n",
       "    }\n",
       "\n",
       "    .dataframe tbody tr th {\n",
       "        vertical-align: top;\n",
       "    }\n",
       "\n",
       "    .dataframe thead th {\n",
       "        text-align: right;\n",
       "    }\n",
       "</style>\n",
       "<table border=\"1\" class=\"dataframe\">\n",
       "  <thead>\n",
       "    <tr style=\"text-align: right;\">\n",
       "      <th></th>\n",
       "      <th>probability</th>\n",
       "      <th>variable</th>\n",
       "      <th>mean</th>\n",
       "    </tr>\n",
       "  </thead>\n",
       "  <tbody>\n",
       "    <tr>\n",
       "      <th>0</th>\n",
       "      <td>prior</td>\n",
       "      <td>firstCoin</td>\n",
       "      <td>0.50</td>\n",
       "    </tr>\n",
       "    <tr>\n",
       "      <th>1</th>\n",
       "      <td>prior</td>\n",
       "      <td>secondCoin</td>\n",
       "      <td>0.50</td>\n",
       "    </tr>\n",
       "    <tr>\n",
       "      <th>2</th>\n",
       "      <td>prior</td>\n",
       "      <td>bothHeads</td>\n",
       "      <td>0.25</td>\n",
       "    </tr>\n",
       "    <tr>\n",
       "      <th>3</th>\n",
       "      <td>posterior</td>\n",
       "      <td>firstCoin</td>\n",
       "      <td>0.50</td>\n",
       "    </tr>\n",
       "    <tr>\n",
       "      <th>4</th>\n",
       "      <td>posterior</td>\n",
       "      <td>secondCoin</td>\n",
       "      <td>1.00</td>\n",
       "    </tr>\n",
       "    <tr>\n",
       "      <th>5</th>\n",
       "      <td>posterior</td>\n",
       "      <td>bothHeads</td>\n",
       "      <td>0.50</td>\n",
       "    </tr>\n",
       "  </tbody>\n",
       "</table>\n",
       "</div>"
      ],
      "text/plain": [
       "  probability    variable  mean\n",
       "0       prior   firstCoin  0.50\n",
       "1       prior  secondCoin  0.50\n",
       "2       prior   bothHeads  0.25\n",
       "3   posterior   firstCoin  0.50\n",
       "4   posterior  secondCoin  1.00\n",
       "5   posterior   bothHeads  0.50"
      ]
     },
     "execution_count": 11,
     "metadata": {},
     "output_type": "execute_result"
    }
   ],
   "source": [
    "df_result = pd.read_csv(data_dir/'results.csv', sep=';')\n",
    "df_result"
   ]
  },
  {
   "cell_type": "markdown",
   "metadata": {},
   "source": [
    "## Results"
   ]
  },
  {
   "cell_type": "code",
   "execution_count": 23,
   "metadata": {
    "ExecuteTime": {
     "end_time": "2021-02-03T14:38:32.887252Z",
     "start_time": "2021-02-03T14:37:53.153056Z"
    }
   },
   "outputs": [
    {
     "name": "stdout",
     "output_type": "stream",
     "text": [
      "dotnet run --project ../models/model ../data first EP\n",
      "Compiling model...done.\n",
      "Compiling model...done.\n",
      "\n",
      "priorFirstCoin : Bernoulli(0.5)\n",
      "priorSecondCoin: Bernoulli(0.5)\n",
      "priorBothHeads : Bernoulli(0.25)\n",
      "\n",
      "postFirstCoin  : Bernoulli(1)\n",
      "postSecondCoin : Bernoulli(0.5)\n",
      "postBothHeads  : Bernoulli(0.5)\n",
      "\n",
      "dotnet run --project ../models/model ../data second EP\n",
      "Compiling model...done.\n",
      "Compiling model...done.\n",
      "\n",
      "priorFirstCoin : Bernoulli(0.5)\n",
      "priorSecondCoin: Bernoulli(0.5)\n",
      "priorBothHeads : Bernoulli(0.25)\n",
      "\n",
      "postFirstCoin  : Bernoulli(0.5)\n",
      "postSecondCoin : Bernoulli(1)\n",
      "postBothHeads  : Bernoulli(0.5)\n",
      "\n",
      "dotnet run --project ../models/model ../data both EP\n",
      "Compiling model...done.\n",
      "Compiling model...done.\n",
      "\n",
      "priorFirstCoin : Bernoulli(0.5)\n",
      "priorSecondCoin: Bernoulli(0.5)\n",
      "priorBothHeads : Bernoulli(0.25)\n",
      "\n",
      "postFirstCoin  : Bernoulli(1)\n",
      "postSecondCoin : Bernoulli(1)\n",
      "postBothHeads  : Bernoulli(1)\n",
      "\n",
      "dotnet run --project ../models/model ../data first VMP\n",
      "Compiling model...done.\n",
      "Compiling model...done.\n",
      "\n",
      "priorFirstCoin : Bernoulli(0.5)\n",
      "priorSecondCoin: Bernoulli(0.5)\n",
      "priorBothHeads : Bernoulli(0.25)\n",
      "\n",
      "postFirstCoin  : Bernoulli(1)\n",
      "postSecondCoin : Bernoulli(0.5)\n",
      "postBothHeads  : Bernoulli(0.5)\n",
      "\n",
      "dotnet run --project ../models/model ../data second VMP\n",
      "Compiling model...done.\n",
      "Compiling model...done.\n",
      "\n",
      "priorFirstCoin : Bernoulli(0.5)\n",
      "priorSecondCoin: Bernoulli(0.5)\n",
      "priorBothHeads : Bernoulli(0.25)\n",
      "\n",
      "postFirstCoin  : Bernoulli(0.5)\n",
      "postSecondCoin : Bernoulli(1)\n",
      "postBothHeads  : Bernoulli(0.5)\n",
      "\n",
      "dotnet run --project ../models/model ../data first Gibbs\n",
      "Compiling model...done.\n",
      "Iterating: \n",
      ".........|.........|.........|.........|.........| 50\n",
      ".........|.........|.........|.........|.........| 100\n",
      ".........|.........|.........|.........|.........| 150\n",
      ".........|.........|.........|.........|.........| 200\n",
      ".........|.........|.........|.........|.........| 250\n",
      ".........|.........|.........|.........|.........| 300\n",
      ".........|.........|.........|.........|.........| 350\n",
      ".........|.........|.........|.........|.........| 400\n",
      ".........|.........|.........|.........|.........| 450\n",
      ".........|.........|.........|.........|.........| 500\n",
      ".........|.........|.........|.........|.........| 550\n",
      ".........|.........|.........|.........|.........| 600\n",
      ".........|.........|.........|.........|.........| 650\n",
      ".........|.........|.........|.........|.........| 700\n",
      ".........|.........|.........|.........|.........| 750\n",
      ".........|.........|.........|.........|.........| 800\n",
      ".........|.........|.........|.........|.........| 850\n",
      ".........|.........|.........|.........|.........| 900\n",
      ".........|.........|.........|.........|.........| 950\n",
      ".........|.........|.........|.........|.........| 1000\n",
      ".........|.........|.........|.........|.........| 1050\n",
      ".........|.........|.........|.........|.........| 1100\n",
      ".........|.........|.........|.........|.........| 1150\n",
      ".........|.........|.........|.........|.........| 1200\n",
      ".........|.........|.........|.........|.........| 1250\n",
      ".........|.........|.........|.........|.........| 1300\n",
      ".........|.........|.........|.........|.........| 1350\n",
      ".........|.........|.........|.........|.........| 1400\n",
      ".........|.........|.........|.........|.........| 1450\n",
      ".........|.........|.........|.........|.........| 1500\n",
      ".........|.........|.........|.........|.........| 1550\n",
      ".........|.........|.........|.........|.........| 1600\n",
      ".........|.........|.........|.........|.........| 1650\n",
      ".........|.........|.........|.........|.........| 1700\n",
      ".........|.........|.........|.........|.........| 1750\n",
      ".........|.........|.........|.........|.........| 1800\n",
      ".........|.........|.........|.........|.........| 1850\n",
      ".........|.........|.........|.........|.........| 1900\n",
      ".........|.........|.........|.........|.........| 1950\n",
      ".........|.........|.........|.........|.........| 2000\n",
      ".........|.........|.........|.........|.........| 2050\n",
      ".........|.........|.........|.........|.........| 2100\n",
      "Compiling model...done.\n",
      "Iterating: \n",
      ".........|.........|.........|.........|.........| 50\n",
      ".........|.........|.........|.........|.........| 100\n",
      ".........|.........|.........|.........|.........| 150\n",
      ".........|.........|.........|.........|.........| 200\n",
      ".........|.........|.........|.........|.........| 250\n",
      ".........|.........|.........|.........|.........| 300\n",
      ".........|.........|.........|.........|.........| 350\n",
      ".........|.........|.........|.........|.........| 400\n",
      ".........|.........|.........|.........|.........| 450\n",
      ".........|.........|.........|.........|.........| 500\n",
      ".........|.........|.........|.........|.........| 550\n",
      ".........|.........|.........|.........|.........| 600\n",
      ".........|.........|.........|.........|.........| 650\n",
      ".........|.........|.........|.........|.........| 700\n",
      ".........|.........|.........|.........|.........| 750\n",
      ".........|.........|.........|.........|.........| 800\n",
      ".........|.........|.........|.........|.........| 850\n",
      ".........|.........|.........|.........|.........| 900\n",
      ".........|.........|.........|.........|.........| 950\n",
      ".........|.........|.........|.........|.........| 1000\n",
      ".........|.........|.........|.........|.........| 1050\n",
      ".........|.........|.........|.........|.........| 1100\n",
      ".........|.........|.........|.........|.........| 1150\n",
      ".........|.........|.........|.........|.........| 1200\n",
      ".........|.........|.........|.........|.........| 1250\n",
      ".........|.........|.........|.........|.........| 1300\n",
      ".........|.........|.........|.........|.........| 1350\n",
      ".........|.........|.........|.........|.........| 1400\n",
      ".........|.........|.........|.........|.........| 1450\n",
      ".........|.........|.........|.........|.........| 1500\n",
      ".........|.........|.........|.........|.........| 1550\n",
      ".........|.........|.........|.........|.........| 1600\n",
      ".........|.........|.........|.........|.........| 1650\n",
      ".........|.........|.........|.........|.........| 1700\n",
      ".........|.........|.........|.........|.........| 1750\n",
      ".........|.........|.........|.........|.........| 1800\n",
      ".........|.........|.........|.........|.........| 1850\n",
      ".........|.........|.........|.........|.........| 1900\n",
      ".........|.........|.........|.........|.........| 1950\n",
      ".........|.........|.........|.........|.........| 2000\n",
      ".........|.........|.........|.........|.........| 2050\n",
      ".........|.........|.........|.........|.........| 2100\n",
      "\n",
      "priorFirstCoin : Bernoulli(0.5)\n",
      "priorSecondCoin: Bernoulli(0.5)\n",
      "priorBothHeads : Bernoulli(0.245)\n",
      "\n",
      "postFirstCoin  : Bernoulli(1)\n",
      "postSecondCoin : Bernoulli(0.5)\n",
      "postBothHeads  : Bernoulli(0.495)\n",
      "\n",
      "dotnet run --project ../models/model ../data second Gibbs\n",
      "Compiling model...done.\n",
      "Iterating: \n",
      ".........|.........|.........|.........|.........| 50\n",
      ".........|.........|.........|.........|.........| 100\n",
      ".........|.........|.........|.........|.........| 150\n",
      ".........|.........|.........|.........|.........| 200\n",
      ".........|.........|.........|.........|.........| 250\n",
      ".........|.........|.........|.........|.........| 300\n",
      ".........|.........|.........|.........|.........| 350\n",
      ".........|.........|.........|.........|.........| 400\n",
      ".........|.........|.........|.........|.........| 450\n",
      ".........|.........|.........|.........|.........| 500\n",
      ".........|.........|.........|.........|.........| 550\n",
      ".........|.........|.........|.........|.........| 600\n",
      ".........|.........|.........|.........|.........| 650\n",
      ".........|.........|.........|.........|.........| 700\n",
      ".........|.........|.........|.........|.........| 750\n",
      ".........|.........|.........|.........|.........| 800\n",
      ".........|.........|.........|.........|.........| 850\n",
      ".........|.........|.........|.........|.........| 900\n",
      ".........|.........|.........|.........|.........| 950\n",
      ".........|.........|.........|.........|.........| 1000\n",
      ".........|.........|.........|.........|.........| 1050\n",
      ".........|.........|.........|.........|.........| 1100\n",
      ".........|.........|.........|.........|.........| 1150\n",
      ".........|.........|.........|.........|.........| 1200\n",
      ".........|.........|.........|.........|.........| 1250\n",
      ".........|.........|.........|.........|.........| 1300\n",
      ".........|.........|.........|.........|.........| 1350\n",
      ".........|.........|.........|.........|.........| 1400\n",
      ".........|.........|.........|.........|.........| 1450\n",
      ".........|.........|.........|.........|.........| 1500\n",
      ".........|.........|.........|.........|.........| 1550\n",
      ".........|.........|.........|.........|.........| 1600\n",
      ".........|.........|.........|.........|.........| 1650\n",
      ".........|.........|.........|.........|.........| 1700\n",
      ".........|.........|.........|.........|.........| 1750\n",
      ".........|.........|.........|.........|.........| 1800\n",
      ".........|.........|.........|.........|.........| 1850\n",
      ".........|.........|.........|.........|.........| 1900\n",
      ".........|.........|.........|.........|.........| 1950\n",
      ".........|.........|.........|.........|.........| 2000\n",
      ".........|.........|.........|.........|.........| 2050\n",
      ".........|.........|.........|.........|.........| 2100\n",
      "Compiling model...done.\n",
      "Iterating: \n",
      ".........|.........|.........|.........|.........| 50\n",
      ".........|.........|.........|.........|.........| 100\n",
      ".........|.........|.........|.........|.........| 150\n",
      ".........|.........|.........|.........|.........| 200\n",
      ".........|.........|.........|.........|.........| 250\n",
      ".........|.........|.........|.........|.........| 300\n",
      ".........|.........|.........|.........|.........| 350\n",
      ".........|.........|.........|.........|.........| 400\n",
      ".........|.........|.........|.........|.........| 450\n",
      ".........|.........|.........|.........|.........| 500\n",
      ".........|.........|.........|.........|.........| 550\n",
      ".........|.........|.........|.........|.........| 600\n",
      ".........|.........|.........|.........|.........| 650\n",
      ".........|.........|.........|.........|.........| 700\n",
      ".........|.........|.........|.........|.........| 750\n",
      ".........|.........|.........|.........|.........| 800\n",
      ".........|.........|.........|.........|.........| 850\n",
      ".........|.........|.........|.........|.........| 900\n",
      ".........|.........|.........|.........|.........| 950\n",
      ".........|.........|.........|.........|.........| 1000\n",
      ".........|.........|.........|.........|.........| 1050\n",
      ".........|.........|.........|.........|.........| 1100\n",
      ".........|.........|.........|.........|.........| 1150\n",
      ".........|.........|.........|.........|.........| 1200\n",
      ".........|.........|.........|.........|.........| 1250\n",
      ".........|.........|.........|.........|.........| 1300\n",
      ".........|.........|.........|.........|.........| 1350\n",
      ".........|.........|.........|.........|.........| 1400\n",
      ".........|.........|.........|.........|.........| 1450\n",
      ".........|.........|.........|.........|.........| 1500\n",
      ".........|.........|.........|.........|.........| 1550\n",
      ".........|.........|.........|.........|.........| 1600\n",
      ".........|.........|.........|.........|.........| 1650\n",
      ".........|.........|.........|.........|.........| 1700\n",
      ".........|.........|.........|.........|.........| 1750\n",
      ".........|.........|.........|.........|.........| 1800\n",
      ".........|.........|.........|.........|.........| 1850\n",
      ".........|.........|.........|.........|.........| 1900\n",
      ".........|.........|.........|.........|.........| 1950\n",
      ".........|.........|.........|.........|.........| 2000\n",
      ".........|.........|.........|.........|.........| 2050\n",
      ".........|.........|.........|.........|.........| 2100\n",
      "\n",
      "priorFirstCoin : Bernoulli(0.5)\n",
      "priorSecondCoin: Bernoulli(0.5)\n",
      "priorBothHeads : Bernoulli(0.241)\n",
      "\n",
      "postFirstCoin  : Bernoulli(0.5)\n",
      "postSecondCoin : Bernoulli(1)\n",
      "postBothHeads  : Bernoulli(0.495)\n",
      "\n"
     ]
    }
   ],
   "source": [
    "df_results = pd.DataFrame()\n",
    "for inference_method in ['EP', 'VMP', 'Gibbs']:\n",
    "    for observe in ['first', 'second', 'both']:\n",
    "        if (inference_method in ['VMP', 'Gibbs']) & (observe == 'both'):\n",
    "            continue\n",
    "        cmd = f'dotnet run --project {model_dir} {data_dir} {observe} {inference_method}'\n",
    "        print(cmd)\n",
    "        start = time()\n",
    "        stream = os.popen(cmd)\n",
    "        done = time()\n",
    "        elapsed = done - start\n",
    "        print(stream.read())\n",
    "\n",
    "        df_result = pd.read_csv(data_dir/'results.csv', sep=';')\n",
    "        df_result['observed'] = observe\n",
    "        df_result['inference'] = inference_method\n",
    "        df_result['time'] = elapsed\n",
    "\n",
    "        df_results = pd.concat([df_results, df_result])"
   ]
  },
  {
   "cell_type": "code",
   "execution_count": 87,
   "metadata": {
    "ExecuteTime": {
     "end_time": "2021-02-03T15:05:15.777575Z",
     "start_time": "2021-02-03T15:05:15.758477Z"
    }
   },
   "outputs": [
    {
     "data": {
      "text/html": [
       "<div>\n",
       "<style scoped>\n",
       "    .dataframe tbody tr th:only-of-type {\n",
       "        vertical-align: middle;\n",
       "    }\n",
       "\n",
       "    .dataframe tbody tr th {\n",
       "        vertical-align: top;\n",
       "    }\n",
       "\n",
       "    .dataframe thead th {\n",
       "        text-align: right;\n",
       "    }\n",
       "</style>\n",
       "<table border=\"1\" class=\"dataframe\">\n",
       "  <thead>\n",
       "    <tr style=\"text-align: right;\">\n",
       "      <th></th>\n",
       "      <th>probability</th>\n",
       "      <th>variable</th>\n",
       "      <th>mean</th>\n",
       "      <th>observed</th>\n",
       "      <th>inference</th>\n",
       "      <th>time</th>\n",
       "    </tr>\n",
       "  </thead>\n",
       "  <tbody>\n",
       "    <tr>\n",
       "      <th>0</th>\n",
       "      <td>prior</td>\n",
       "      <td>firstCoin</td>\n",
       "      <td>0.50</td>\n",
       "      <td>first</td>\n",
       "      <td>EP</td>\n",
       "      <td>0.006702</td>\n",
       "    </tr>\n",
       "    <tr>\n",
       "      <th>1</th>\n",
       "      <td>prior</td>\n",
       "      <td>secondCoin</td>\n",
       "      <td>0.50</td>\n",
       "      <td>first</td>\n",
       "      <td>EP</td>\n",
       "      <td>0.006702</td>\n",
       "    </tr>\n",
       "    <tr>\n",
       "      <th>2</th>\n",
       "      <td>prior</td>\n",
       "      <td>bothHeads</td>\n",
       "      <td>0.25</td>\n",
       "      <td>first</td>\n",
       "      <td>EP</td>\n",
       "      <td>0.006702</td>\n",
       "    </tr>\n",
       "    <tr>\n",
       "      <th>3</th>\n",
       "      <td>posterior</td>\n",
       "      <td>firstCoin</td>\n",
       "      <td>1.00</td>\n",
       "      <td>first</td>\n",
       "      <td>EP</td>\n",
       "      <td>0.006702</td>\n",
       "    </tr>\n",
       "    <tr>\n",
       "      <th>4</th>\n",
       "      <td>posterior</td>\n",
       "      <td>secondCoin</td>\n",
       "      <td>0.50</td>\n",
       "      <td>first</td>\n",
       "      <td>EP</td>\n",
       "      <td>0.006702</td>\n",
       "    </tr>\n",
       "    <tr>\n",
       "      <th>5</th>\n",
       "      <td>posterior</td>\n",
       "      <td>bothHeads</td>\n",
       "      <td>0.50</td>\n",
       "      <td>first</td>\n",
       "      <td>EP</td>\n",
       "      <td>0.006702</td>\n",
       "    </tr>\n",
       "    <tr>\n",
       "      <th>0</th>\n",
       "      <td>prior</td>\n",
       "      <td>firstCoin</td>\n",
       "      <td>0.50</td>\n",
       "      <td>second</td>\n",
       "      <td>EP</td>\n",
       "      <td>0.004202</td>\n",
       "    </tr>\n",
       "    <tr>\n",
       "      <th>1</th>\n",
       "      <td>prior</td>\n",
       "      <td>secondCoin</td>\n",
       "      <td>0.50</td>\n",
       "      <td>second</td>\n",
       "      <td>EP</td>\n",
       "      <td>0.004202</td>\n",
       "    </tr>\n",
       "    <tr>\n",
       "      <th>2</th>\n",
       "      <td>prior</td>\n",
       "      <td>bothHeads</td>\n",
       "      <td>0.25</td>\n",
       "      <td>second</td>\n",
       "      <td>EP</td>\n",
       "      <td>0.004202</td>\n",
       "    </tr>\n",
       "    <tr>\n",
       "      <th>3</th>\n",
       "      <td>posterior</td>\n",
       "      <td>firstCoin</td>\n",
       "      <td>0.50</td>\n",
       "      <td>second</td>\n",
       "      <td>EP</td>\n",
       "      <td>0.004202</td>\n",
       "    </tr>\n",
       "  </tbody>\n",
       "</table>\n",
       "</div>"
      ],
      "text/plain": [
       "  probability    variable  mean observed inference      time\n",
       "0       prior   firstCoin  0.50    first        EP  0.006702\n",
       "1       prior  secondCoin  0.50    first        EP  0.006702\n",
       "2       prior   bothHeads  0.25    first        EP  0.006702\n",
       "3   posterior   firstCoin  1.00    first        EP  0.006702\n",
       "4   posterior  secondCoin  0.50    first        EP  0.006702\n",
       "5   posterior   bothHeads  0.50    first        EP  0.006702\n",
       "0       prior   firstCoin  0.50   second        EP  0.004202\n",
       "1       prior  secondCoin  0.50   second        EP  0.004202\n",
       "2       prior   bothHeads  0.25   second        EP  0.004202\n",
       "3   posterior   firstCoin  0.50   second        EP  0.004202"
      ]
     },
     "execution_count": 87,
     "metadata": {},
     "output_type": "execute_result"
    }
   ],
   "source": [
    "df_results.head(10)"
   ]
  },
  {
   "cell_type": "code",
   "execution_count": 85,
   "metadata": {
    "ExecuteTime": {
     "end_time": "2021-02-03T15:04:20.859144Z",
     "start_time": "2021-02-03T15:04:20.854949Z"
    }
   },
   "outputs": [],
   "source": [
    "\n",
    "output_dir = Path('./output')\n",
    "if not output_dir.exists():\n",
    "    os.mkdir(output_dir)"
   ]
  },
  {
   "cell_type": "code",
   "execution_count": 86,
   "metadata": {
    "ExecuteTime": {
     "end_time": "2021-02-03T15:04:34.872330Z",
     "start_time": "2021-02-03T15:04:30.023480Z"
    }
   },
   "outputs": [
    {
     "data": {
      "image/png": "[encoded data removed]",
      "text/plain": [
       "<Figure size 669.75x432 with 6 Axes>"
      ]
     },
     "metadata": {
      "needs_background": "light"
     },
     "output_type": "display_data"
    },
    {
     "data": {
      "image/png": "[encoded data removed]",
      "text/plain": [
       "<Figure size 669.75x288 with 4 Axes>"
      ]
     },
     "metadata": {
      "needs_background": "light"
     },
     "output_type": "display_data"
    },
    {
     "data": {
      "image/png": "[encoded data removed]",
      "text/plain": [
       "<Figure size 669.75x288 with 4 Axes>"
      ]
     },
     "metadata": {
      "needs_background": "light"
     },
     "output_type": "display_data"
    }
   ],
   "source": [
    "for inference_method in ['EP', 'VMP', 'Gibbs']:\n",
    "    g = sns.FacetGrid(data=df_results[df_results.inference == inference_method], \n",
    "                      height=2, aspect=2,\n",
    "                      margin_titles=True, despine=False,\n",
    "                      col='probability',  \n",
    "                      row='observed')\n",
    "    g.map_dataframe(sns.scatterplot, \n",
    "                    x='variable', \n",
    "                    hue='variable',\n",
    "                    s=300,\n",
    "                    y='mean')\n",
    "    g.fig.subplots_adjust(wspace=0.3, hspace=0.1)\n",
    "    g.set(ylim=(-0.2, 1.2))\n",
    "    g.add_legend()\n",
    "    g.fig.savefig(output_dir/f'{inference_method}.pdf')"
   ]
  },
  {
   "cell_type": "code",
   "execution_count": null,
   "metadata": {},
   "outputs": [],
   "source": []
  }
 ],
 "metadata": {
  "kernelspec": {
   "display_name": "Python 3",
   "language": "python",
   "name": "python3"
  },
  "language_info": {
   "codemirror_mode": {
    "name": "ipython",
    "version": 3
   },
   "file_extension": ".py",
   "mimetype": "text/x-python",
   "name": "python",
   "nbconvert_exporter": "python",
   "pygments_lexer": "ipython3",
   "version": "3.9.1"
  },
  "toc": {
   "base_numbering": 1,
   "nav_menu": {},
   "number_sections": true,
   "sideBar": true,
   "skip_h1_title": true,
   "title_cell": "Table of Contents",
   "title_sidebar": "Contents",
   "toc_cell": false,
   "toc_position": {},
   "toc_section_display": true,
   "toc_window_display": true
  }
 },
 "nbformat": 4,
 "nbformat_minor": 4
}
